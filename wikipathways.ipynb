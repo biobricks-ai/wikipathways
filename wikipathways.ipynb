{
 "cells": [
  {
   "cell_type": "markdown",
   "metadata": {},
   "source": [
    "# Wikipathways Demo"
   ]
  },
  {
   "cell_type": "code",
   "execution_count": 7,
   "metadata": {},
   "outputs": [],
   "source": [
    "import biobricks as bb\n",
    "from rdflib import Graph, Namespace\n",
    "from rdflib.plugins.stores import sparqlstore\n",
    "from rdflib_hdt import HDTStore\n",
    "import pandas as pd\n",
    "\n",
    "wikipathways = bb.assets('wikipathways')\n",
    "hdt_path = wikipathways.wikipathways_hdt"
   ]
  },
  {
   "cell_type": "code",
   "execution_count": 13,
   "metadata": {},
   "outputs": [
    {
     "data": {
      "text/html": [
       "<div>\n",
       "<style scoped>\n",
       "    .dataframe tbody tr th:only-of-type {\n",
       "        vertical-align: middle;\n",
       "    }\n",
       "\n",
       "    .dataframe tbody tr th {\n",
       "        vertical-align: top;\n",
       "    }\n",
       "\n",
       "    .dataframe thead th {\n",
       "        text-align: right;\n",
       "    }\n",
       "</style>\n",
       "<table border=\"1\" class=\"dataframe\">\n",
       "  <thead>\n",
       "    <tr style=\"text-align: right;\">\n",
       "      <th></th>\n",
       "      <th>pathway</th>\n",
       "      <th>geneProduct</th>\n",
       "    </tr>\n",
       "  </thead>\n",
       "  <tbody>\n",
       "  </tbody>\n",
       "</table>\n",
       "</div>"
      ],
      "text/plain": [
       "Empty DataFrame\n",
       "Columns: [pathway, geneProduct]\n",
       "Index: []"
      ]
     },
     "execution_count": 13,
     "metadata": {},
     "output_type": "execute_result"
    }
   ],
   "source": [
    "# Create a Graph with HDTStore\n",
    "store = HDTStore(hdt_path)\n",
    "g = Graph(store=store)\n",
    "\n",
    "# SPARQL query with explicit namespace definitions\n",
    "query = \"\"\"\n",
    "PREFIX wp: <http://vocabularies.wikipathways.org/wp#>\n",
    "PREFIX rdfs: <http://www.w3.org/2000/01/rdf-schema#>\n",
    "PREFIX dcterms: <http://purl.org/dc/terms/>\n",
    "\n",
    "SELECT DISTINCT ?pathway (STR(?gene_label) AS ?geneProduct) WHERE {\n",
    "    ?geneProduct a wp:GeneProduct . \n",
    "    ?geneProduct rdfs:label ?gene_label .\n",
    "    ?geneProduct dcterms:isPartOf ?pathway .\n",
    "    ?pathway a wp:Pathway .\n",
    "    ?pathway dcterms:identifier \"WP1560\" .\n",
    "}\n",
    "\"\"\"\n",
    "\n",
    "# Execute the query\n",
    "results = g.query(query)\n",
    "df = pd.DataFrame(results, columns=['pathway', 'geneProduct'])\n",
    "store.close()\n",
    "\n",
    "df"
   ]
  }
 ],
 "metadata": {
  "kernelspec": {
   "display_name": "cvae",
   "language": "python",
   "name": "python3"
  },
  "language_info": {
   "codemirror_mode": {
    "name": "ipython",
    "version": 3
   },
   "file_extension": ".py",
   "mimetype": "text/x-python",
   "name": "python",
   "nbconvert_exporter": "python",
   "pygments_lexer": "ipython3",
   "version": "3.9.18"
  }
 },
 "nbformat": 4,
 "nbformat_minor": 2
}
